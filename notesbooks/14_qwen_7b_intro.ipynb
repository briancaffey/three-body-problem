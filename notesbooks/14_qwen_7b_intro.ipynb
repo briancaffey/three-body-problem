{
 "cells": [
  {
   "cell_type": "code",
   "execution_count": null,
   "id": "2516bf87-5ced-445a-a7d3-2ea1c023f8a5",
   "metadata": {},
   "outputs": [],
   "source": [
    "from transformers import AutoModelForCausalLM, AutoTokenizer\n",
    "from transformers.generation import GenerationConfig\n",
    "import json"
   ]
  },
  {
   "cell_type": "code",
   "execution_count": 2,
   "id": "45775991",
   "metadata": {
    "scrolled": true
   },
   "outputs": [
    {
     "name": "stderr",
     "output_type": "stream",
     "text": [
      "The model is automatically converting to bf16 for faster inference. If you want to disable the automatic precision, please manually add bf16/fp16/fp32=True to \"AutoModelForCausalLM.from_pretrained\".\n",
      "Try importing flash-attention for faster inference...\n",
      "Warning: import flash_attn rotary fail, please install FlashAttention rotary to get higher efficiency https://github.com/Dao-AILab/flash-attention/tree/main/csrc/rotary\n",
      "Warning: import flash_attn rms_norm fail, please install FlashAttention layer_norm to get higher efficiency https://github.com/Dao-AILab/flash-attention/tree/main/csrc/layer_norm\n",
      "Warning: import flash_attn fail, please install FlashAttention to get higher efficiency https://github.com/Dao-AILab/flash-attention\n"
     ]
    },
    {
     "data": {
      "application/vnd.jupyter.widget-view+json": {
       "model_id": "f88d20f23a3143a98da7a47e58b34813",
       "version_major": 2,
       "version_minor": 0
      },
      "text/plain": [
       "Loading checkpoint shards:   0%|          | 0/8 [00:00<?, ?it/s]"
      ]
     },
     "metadata": {},
     "output_type": "display_data"
    }
   ],
   "source": [
    "tokenizer = AutoTokenizer.from_pretrained(\"Qwen/Qwen-7B-Chat\", trust_remote_code=True)\n",
    "model = AutoModelForCausalLM.from_pretrained(\"Qwen/Qwen-7B-Chat\", device_map=\"auto\", trust_remote_code=True).eval()\n",
    "model.generation_config = GenerationConfig.from_pretrained(\"Qwen/Qwen-7B-Chat\", trust_remote_code=True)"
   ]
  },
  {
   "cell_type": "code",
   "execution_count": 3,
   "id": "c16f2eac-f1c5-4fb1-a0d1-a6fdfff2a3cd",
   "metadata": {},
   "outputs": [],
   "source": [
    "# write a function to translate paragraphs\n",
    "# let's write a function that can add English translations to our file for a given chapter in a book\n",
    "\n",
    "def translate_chapter(model, tokenizer, book_path, chapter_number, prompt=None):\n",
    "    if not prompt:\n",
    "        prompt = \"答案不能包含任何汉字。Do not include any Chinese characters in your output. Only write responses in English. Directly translate the following from Chinese direclty into English:\"\n",
    "    # open the file\n",
    "    with open(f\"../data/books/{book_path}/chapters/{chapter_number}.json\", \"r\") as f:\n",
    "        chapter = json.loads(f.read())\n",
    "        translated_paragraphs = []\n",
    "        for paragraph in chapter[\"paragraphs\"]:\n",
    "            full_prompt = f\"{prompt}: {paragraph}\"\n",
    "            response, _ = model.chat(tokenizer, full_prompt, history=None)\n",
    "            print(paragraph)\n",
    "            print()\n",
    "            print(response)\n",
    "            print(\"======\")\n",
    "            print()\n",
    "            translated_paragraphs.append(response)\n",
    "\n",
    "        chapter[\"translated_paragraphs\"] = translated_paragraphs\n",
    "\n",
    "    with open(f\"../data/books/{book_path}/chapters/{chapter_number}.json\", \"w\") as f:\n",
    "        json.dump(chapter, f, ensure_ascii=False)\n",
    "\n",
    "    print(f\"translated {len(translated_paragraphs)}.\")"
   ]
  },
  {
   "cell_type": "code",
   "execution_count": null,
   "id": "2890d72d-f851-458f-b93f-c06a2b0db7b0",
   "metadata": {},
   "outputs": [],
   "source": [
    "for i in range(32,37): \n",
    "    print(f\"===Translating chapter {i}===\")\n",
    "    translate_chapter(model, tokenizer, \"three_body\", i)\n",
    "    print(f\"===Finished translating {i}\")"
   ]
  },
  {
   "cell_type": "code",
   "execution_count": null,
   "id": "d7492207-3f67-4e55-995f-5d9f68b54d4c",
   "metadata": {},
   "outputs": [],
   "source": []
  }
 ],
 "metadata": {
  "kernelspec": {
   "display_name": "Python 3 (ipykernel)",
   "language": "python",
   "name": "python3"
  },
  "language_info": {
   "codemirror_mode": {
    "name": "ipython",
    "version": 3
   },
   "file_extension": ".py",
   "mimetype": "text/x-python",
   "name": "python",
   "nbconvert_exporter": "python",
   "pygments_lexer": "ipython3",
   "version": "3.10.12"
  }
 },
 "nbformat": 4,
 "nbformat_minor": 5
}
