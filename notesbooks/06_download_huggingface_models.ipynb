{
 "cells": [
  {
   "cell_type": "code",
   "execution_count": 1,
   "id": "c100991b-8e1f-4515-b8c8-8c29995741e1",
   "metadata": {},
   "outputs": [
    {
     "name": "stderr",
     "output_type": "stream",
     "text": [
      "/home/brian/github/three-body-problem/.venv/lib/python3.10/site-packages/tqdm/auto.py:21: TqdmWarning: IProgress not found. Please update jupyter and ipywidgets. See https://ipywidgets.readthedocs.io/en/stable/user_install.html\n",
      "  from .autonotebook import tqdm as notebook_tqdm\n"
     ]
    }
   ],
   "source": [
    "from huggingface_hub import hf_hub_download, snapshot_download\n",
    "LOCAL_DIR = \"models/7B/Chinese-Alpaca-2\"\n",
    "REPO_ID = \"ziqingyang/chinese-alpaca-2-7b\""
   ]
  },
  {
   "cell_type": "code",
   "execution_count": 3,
   "id": "74272c56",
   "metadata": {},
   "outputs": [
    {
     "name": "stderr",
     "output_type": "stream",
     "text": [
      "Fetching 11 files: 100%|██████████| 11/11 [00:00<00:00, 66.89it/s]\n"
     ]
    },
    {
     "data": {
      "text/plain": [
       "'/home/brian/github/three-body-problem/models/7B/Chinese-Alpaca-2'"
      ]
     },
     "execution_count": 3,
     "metadata": {},
     "output_type": "execute_result"
    }
   ],
   "source": [
    "snapshot_download(\n",
    "    repo_id=REPO_ID,\n",
    "    local_dir_use_symlinks=True,\n",
    "    local_dir=\"../models/7B/Chinese-Alpaca-2\",\n",
    ")"
   ]
  }
 ],
 "metadata": {
  "kernelspec": {
   "display_name": "Python 3 (ipykernel)",
   "language": "python",
   "name": "python3"
  },
  "language_info": {
   "codemirror_mode": {
    "name": "ipython",
    "version": 3
   },
   "file_extension": ".py",
   "mimetype": "text/x-python",
   "name": "python",
   "nbconvert_exporter": "python",
   "pygments_lexer": "ipython3",
   "version": "3.10.12"
  }
 },
 "nbformat": 4,
 "nbformat_minor": 5
}
