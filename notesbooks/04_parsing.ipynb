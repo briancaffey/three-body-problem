{
 "cells": [
  {
   "cell_type": "code",
   "execution_count": 1,
   "metadata": {},
   "outputs": [],
   "source": [
    "import json\n",
    "import spacy\n",
    "from spacy import displacy\n",
    "# load language model\n",
    "zh_parser = spacy.load('zh_core_web_lg')## disable=[\"parser\"]"
   ]
  },
  {
   "cell_type": "code",
   "execution_count": 2,
   "metadata": {},
   "outputs": [],
   "source": [
    "with open(\"../data/cedict_ts.u8\", \"r+\") as f, open(\"../data/cedict_ts_reduced.u8\", \"w+\") as f2:\n",
    "    for line in f.readlines():\n",
    "        if (\"/variant of\" not in line) and (\"/(bound\" not in line):\n",
    "            f2.write(line)"
   ]
  },
  {
   "cell_type": "code",
   "execution_count": 3,
   "metadata": {},
   "outputs": [],
   "source": [
    "from cedict_utils.cedict import CedictParser\n",
    "parser = CedictParser()\n",
    "parser.read_file(\"../data/cedict_ts_reduced.u8\")\n",
    "entries = parser.parse()\n",
    "\n",
    "simple_dict = {x.simplified: {'meaning': x.meanings, 'pinyin': x.pinyin} for x in entries}"
   ]
  },
  {
   "cell_type": "code",
   "execution_count": 4,
   "metadata": {},
   "outputs": [],
   "source": [
    "def get_book_dict(book_path):\n",
    "\n",
    "    with open(f\"../data/books/{book_path}/book_data.json\", \"r+\") as f:\n",
    "        book_dict = json.loads(f.read())\n",
    "\n",
    "    return book_dict"
   ]
  },
  {
   "cell_type": "code",
   "execution_count": 5,
   "metadata": {},
   "outputs": [],
   "source": [
    "# get character frequency values from here... define a function and call it below\n",
    "# read in both csv files and write their rows to dictionaries\n",
    "import csv\n",
    "\n",
    "def csv_to_dict(filepath):\n",
    "    d = {}\n",
    "    with open(filepath, \"r\") as f:\n",
    "        csv_file = csv.reader(f)\n",
    "        for row in csv_file:\n",
    "            if row[0] == \"rank\": continue\n",
    "            d[row[1]] = row[0]\n",
    "    return d\n",
    "\n",
    "overall_ranks = csv_to_dict(\"../most_common_characters_corrected.csv\")"
   ]
  },
  {
   "cell_type": "code",
   "execution_count": 6,
   "metadata": {},
   "outputs": [],
   "source": [
    "def get_frequency(c):\n",
    "    total_characters = 5000\n",
    "    rank = overall_ranks.get(c)\n",
    "    return int(rank)/total_characters if rank else None"
   ]
  },
  {
   "cell_type": "code",
   "execution_count": 7,
   "metadata": {},
   "outputs": [
    {
     "data": {
      "text/plain": [
       "0.0004"
      ]
     },
     "execution_count": 7,
     "metadata": {},
     "output_type": "execute_result"
    }
   ],
   "source": [
    "get_frequency(\"是\")"
   ]
  },
  {
   "cell_type": "code",
   "execution_count": 8,
   "metadata": {},
   "outputs": [],
   "source": [
    "# takes a paragraph text string and parse it using spacy\n",
    "\n",
    "\n",
    "def parse_paragraph(p):\n",
    "    doc = zh_parser(p)\n",
    "    parsed_tokens = []\n",
    "    for token in doc:\n",
    "\n",
    "        # get character data\n",
    "        parsed_characters = []\n",
    "\n",
    "        characters = [x for x in token.text]\n",
    "        for character in characters:\n",
    "\n",
    "            character_definition = None\n",
    "            character_pinyin = None\n",
    "            if simple_dict.get(character):\n",
    "                character_definition = simple_dict.get(character).get(\"meaning\")\n",
    "                character_pinyin = simple_dict.get(character).get(\"pinyin\")\n",
    "\n",
    "            parsed_character = {\n",
    "                \"character\": character,\n",
    "                \"definition\": character_definition,\n",
    "                # \"occurances\": 0,\n",
    "                \"overall_frequency\": get_frequency(character),\n",
    "                \"pinyin\": character_pinyin,\n",
    "            }\n",
    "\n",
    "            parsed_characters.append(parsed_character)\n",
    "\n",
    "        # get definition from the dictionary defined above\n",
    "        definition = None\n",
    "        pinyin = None\n",
    "        if simple_dict.get(token.text):\n",
    "            definition = simple_dict.get(token.text).get('meaning')\n",
    "            pinyin = simple_dict.get(token.text).get('pinyin')\n",
    "\n",
    "\n",
    "        # parsed token\n",
    "        parsed_token = {\n",
    "            \"text\": token.text,\n",
    "            \"definition\": definition,\n",
    "            \"pinyin\": pinyin,\n",
    "            \"characters\": parsed_characters\n",
    "        }\n",
    "\n",
    "        parsed_tokens.append(parsed_token)\n",
    "    return parsed_tokens"
   ]
  },
  {
   "cell_type": "code",
   "execution_count": 18,
   "metadata": {},
   "outputs": [],
   "source": [
    "# book_dict = get_book_dict(\"dark_forest\")\n",
    "# p1 = book_dict.get(\"chapters\")[7].get(\"paragraphs\")[0]"
   ]
  },
  {
   "cell_type": "code",
   "execution_count": 15,
   "metadata": {},
   "outputs": [],
   "source": [
    "def write_parsed_file_for_chapter(book_path, chapter_number):\n",
    "    book_dict = get_book_dict(book_path)\n",
    "    chapter = book_dict[\"chapters\"][chapter_number - 1]\n",
    "\n",
    "    print(chapter.get(\"title\"))\n",
    "    paragraphs = chapter.get(\"paragraphs\")\n",
    "\n",
    "    parsed_paragraphs = []\n",
    "    for i, p in enumerate(paragraphs):\n",
    "        parsed_paragraphs.append(parse_paragraph(p))\n",
    "    chapter[\"parsed_paragraphs\"] = parsed_paragraphs\n",
    "\n",
    "\n",
    "    with open(f\"../data/books/{book_path}/chapters/{chapter_number}.json\", \"w+\") as f:\n",
    "        json.dump(chapter, f, ensure_ascii=False)"
   ]
  },
  {
   "cell_type": "code",
   "execution_count": 18,
   "metadata": {},
   "outputs": [],
   "source": [
    "def get_chapter_count_for_book(book_path):\n",
    "    book_dict = get_book_dict(book_path)\n",
    "    return len(book_dict[\"chapters\"])"
   ]
  },
  {
   "cell_type": "code",
   "execution_count": 22,
   "metadata": {},
   "outputs": [
    {
     "name": "stdout",
     "output_type": "stream",
     "text": [
      "后记\n"
     ]
    }
   ],
   "source": [
    "BOOK=\"three_body\"\n",
    "chapter_count = get_chapter_count_for_book(BOOK)\n",
    "\n",
    "for chapter in range(1, chapter_count+1):\n",
    "    write_parsed_file_for_chapter(BOOK, chapter)"
   ]
  },
  {
   "cell_type": "code",
   "execution_count": null,
   "metadata": {},
   "outputs": [],
   "source": [
    "BOOK=\"dark_forest\"\n",
    "chapter_count = get_chapter_count_for_book(BOOK)\n",
    "\n",
    "for chapter in range(1, chapter_count+1):\n",
    "    write_parsed_file_for_chapter(\"dark_forest\")"
   ]
  },
  {
   "cell_type": "code",
   "execution_count": null,
   "metadata": {},
   "outputs": [],
   "source": [
    "BOOK=\"deaths_end\"\n",
    "chapter_count = get_chapter_count_for_book(BOOK)\n",
    "\n",
    "for chapter in range(1, chapter_count+1):\n",
    "    write_parsed_file_for_chapter(\"deaths_end\")"
   ]
  }
 ],
 "metadata": {
  "kernelspec": {
   "display_name": ".venv",
   "language": "python",
   "name": "python3"
  },
  "language_info": {
   "codemirror_mode": {
    "name": "ipython",
    "version": 3
   },
   "file_extension": ".py",
   "mimetype": "text/x-python",
   "name": "python",
   "nbconvert_exporter": "python",
   "pygments_lexer": "ipython3",
   "version": "3.11.4"
  },
  "orig_nbformat": 4
 },
 "nbformat": 4,
 "nbformat_minor": 2
}
