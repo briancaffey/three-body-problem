{
 "cells": [
  {
   "cell_type": "code",
   "execution_count": 23,
   "metadata": {},
   "outputs": [],
   "source": [
    "import json\n",
    "import spacy\n",
    "from spacy import displacy\n",
    "# load language model\n",
    "zh_parser = spacy.load('zh_core_web_lg')## disable=[\"parser\"]"
   ]
  },
  {
   "cell_type": "code",
   "execution_count": 24,
   "metadata": {},
   "outputs": [],
   "source": [
    "with open(\"../data/cedict_ts.u8\", \"r+\") as f, open(\"../data/cedict_ts_reduced.u8\", \"w+\") as f2:\n",
    "    for line in f.readlines():\n",
    "        if (\"/variant of\" not in line) and (\"/(bound\" not in line):\n",
    "            f2.write(line)"
   ]
  },
  {
   "cell_type": "code",
   "execution_count": 25,
   "metadata": {},
   "outputs": [],
   "source": [
    "from cedict_utils.cedict import CedictParser\n",
    "parser = CedictParser()\n",
    "parser.read_file(\"../data/cedict_ts_reduced.u8\")\n",
    "entries = parser.parse()\n",
    "\n",
    "simple_dict = {x.simplified: {'meaning': x.meanings, 'pinyin': x.pinyin} for x in entries}"
   ]
  },
  {
   "cell_type": "code",
   "execution_count": 26,
   "metadata": {},
   "outputs": [],
   "source": [
    "def get_book_dict(book_path):\n",
    "\n",
    "    with open(f\"../data/books/{book_path}/book_data.json\", \"r+\") as f:\n",
    "        book_dict = json.loads(f.read())\n",
    "\n",
    "    return book_dict"
   ]
  },
  {
   "cell_type": "code",
   "execution_count": 27,
   "metadata": {},
   "outputs": [],
   "source": [
    "# get character frequency values from here... define a function and call it below\n",
    "# read in both csv files and write their rows to dictionaries\n",
    "import csv\n",
    "\n",
    "def csv_to_dict(filepath):\n",
    "    d = {}\n",
    "    with open(filepath, \"r\") as f:\n",
    "        csv_file = csv.reader(f)\n",
    "        for row in csv_file:\n",
    "            if row[0] == \"rank\": continue\n",
    "            d[row[1]] = row[0]\n",
    "    return d\n",
    "\n",
    "overall_ranks = csv_to_dict(\"../most_common_characters_corrected.csv\")"
   ]
  },
  {
   "cell_type": "code",
   "execution_count": 28,
   "metadata": {},
   "outputs": [],
   "source": [
    "def get_frequency(c):\n",
    "    total_characters = 5000\n",
    "    rank = overall_ranks.get(c)\n",
    "    return int(rank)/total_characters if rank else None"
   ]
  },
  {
   "cell_type": "code",
   "execution_count": 29,
   "metadata": {},
   "outputs": [
    {
     "data": {
      "text/plain": [
       "0.0004"
      ]
     },
     "execution_count": 29,
     "metadata": {},
     "output_type": "execute_result"
    }
   ],
   "source": [
    "get_frequency(\"是\")"
   ]
  },
  {
   "cell_type": "code",
   "execution_count": 30,
   "metadata": {},
   "outputs": [],
   "source": [
    "# takes a paragraph text string and parse it using spacy\n",
    "\n",
    "\n",
    "def parse_paragraph(p):\n",
    "    doc = zh_parser(p)\n",
    "    parsed_tokens = []\n",
    "    for token in doc:\n",
    "\n",
    "        # get character data\n",
    "        parsed_characters = []\n",
    "\n",
    "        characters = [x for x in token.text]\n",
    "        for character in characters:\n",
    "\n",
    "            character_definition = None\n",
    "            character_pinyin = None\n",
    "            if simple_dict.get(character):\n",
    "                character_definition = simple_dict.get(character).get(\"meaning\")\n",
    "                character_pinyin = simple_dict.get(character).get(\"pinyin\")\n",
    "\n",
    "            parsed_character = {\n",
    "                \"character\": character,\n",
    "                \"definition\": character_definition,\n",
    "                # \"occurances\": 0,\n",
    "                \"overall_frequency\": get_frequency(character),\n",
    "                \"pinyin\": character_pinyin,\n",
    "            }\n",
    "\n",
    "            parsed_characters.append(parsed_character)\n",
    "\n",
    "        # get definition from the dictionary defined above\n",
    "        definition = None\n",
    "        pinyin = None\n",
    "        if simple_dict.get(token.text):\n",
    "            definition = simple_dict.get(token.text).get('meaning')\n",
    "            pinyin = simple_dict.get(token.text).get('pinyin')\n",
    "\n",
    "\n",
    "        # parsed token\n",
    "        parsed_token = {\n",
    "            \"text\": token.text,\n",
    "            \"definition\": definition,\n",
    "            \"pinyin\": pinyin,\n",
    "            \"characters\": parsed_characters\n",
    "        }\n",
    "\n",
    "        parsed_tokens.append(parsed_token)\n",
    "    return parsed_tokens"
   ]
  },
  {
   "cell_type": "code",
   "execution_count": 31,
   "metadata": {},
   "outputs": [],
   "source": [
    "# book_dict = get_book_dict(\"dark_forest\")\n",
    "# p1 = book_dict.get(\"chapters\")[7].get(\"paragraphs\")[0]"
   ]
  },
  {
   "cell_type": "code",
   "execution_count": 32,
   "metadata": {},
   "outputs": [],
   "source": [
    "def write_parsed_file_for_chapter(book_path, chapter_number):\n",
    "    book_dict = get_book_dict(book_path)\n",
    "    chapter = book_dict[\"chapters\"][chapter_number - 1]\n",
    "\n",
    "    print(chapter.get(\"title\"))\n",
    "    paragraphs = chapter.get(\"paragraphs\")\n",
    "\n",
    "    parsed_paragraphs = []\n",
    "    for i, p in enumerate(paragraphs):\n",
    "        # skip over empty paragraphs\n",
    "        if p != \"\" and p.strip() != \"\":\n",
    "            parsed_paragraphs.append(parse_paragraph(p))\n",
    "    chapter[\"parsed_paragraphs\"] = parsed_paragraphs\n",
    "\n",
    "\n",
    "    with open(f\"../data/books/{book_path}/chapters/{chapter_number}.json\", \"w+\") as f:\n",
    "        json.dump(chapter, f, ensure_ascii=False)"
   ]
  },
  {
   "cell_type": "code",
   "execution_count": 33,
   "metadata": {},
   "outputs": [],
   "source": [
    "def get_chapter_count_for_book(book_path):\n",
    "    book_dict = get_book_dict(book_path)\n",
    "    return len(book_dict[\"chapters\"])"
   ]
  },
  {
   "cell_type": "code",
   "execution_count": 34,
   "metadata": {},
   "outputs": [
    {
     "name": "stdout",
     "output_type": "stream",
     "text": [
      "写在“基石”之前\n",
      "前 言\n",
      "1.疯狂年代\n",
      "2.寂静的春天\n",
      "3.红岸之一\n",
      "4.科学边界\n",
      "5.台球\n",
      "6.射手和农场主\n",
      "7.三体、周文王、长夜\n",
      "8.叶文洁\n",
      "9.宇宙闪烁\n",
      "10.大史\n",
      "11.三体、墨子、烈焰\n",
      "12.红岸之二\n",
      "14.红岸之四\n",
      "15.三体、哥白尼、宇宙橄榄球、三日凌空\n",
      "16.三体问题\n",
      "17.三体、牛顿、冯·诺依曼、秦始皇、三日连珠\n",
      "18.聚会\n",
      "19.三体、爱因斯坦、单摆、大撕裂\n",
      "20.三体、远征\n",
      "21.地球叛军\n",
      "22.红岸之五\n",
      "23.红岸之六\n",
      "24.叛乱\n",
      "25.雷志成、杨卫宁之死\n",
      "26.无人忏悔\n",
      "27.伊文斯\n",
      "29.地球三体运动\n",
      "30.两个质子\n",
      "31.古筝行动\n",
      "32.监听员\n",
      "33.智子\n",
      "34.虫子\n",
      "35.尾声、遗址\n",
      "后记\n"
     ]
    }
   ],
   "source": [
    "BOOK=\"three_body\"\n",
    "chapter_count = get_chapter_count_for_book(BOOK)\n",
    "\n",
    "for chapter in range(1, chapter_count+1):\n",
    "    write_parsed_file_for_chapter(BOOK, chapter)"
   ]
  },
  {
   "cell_type": "code",
   "execution_count": 35,
   "metadata": {},
   "outputs": [
    {
     "ename": "TypeError",
     "evalue": "write_parsed_file_for_chapter() missing 1 required positional argument: 'chapter_number'",
     "output_type": "error",
     "traceback": [
      "\u001b[0;31m---------------------------------------------------------------------------\u001b[0m",
      "\u001b[0;31mTypeError\u001b[0m                                 Traceback (most recent call last)",
      "Cell \u001b[0;32mIn[35], line 5\u001b[0m\n\u001b[1;32m      2\u001b[0m chapter_count \u001b[39m=\u001b[39m get_chapter_count_for_book(BOOK)\n\u001b[1;32m      4\u001b[0m \u001b[39mfor\u001b[39;00m chapter \u001b[39min\u001b[39;00m \u001b[39mrange\u001b[39m(\u001b[39m1\u001b[39m, chapter_count\u001b[39m+\u001b[39m\u001b[39m1\u001b[39m):\n\u001b[0;32m----> 5\u001b[0m     write_parsed_file_for_chapter(\u001b[39m\"\u001b[39;49m\u001b[39mdark_forest\u001b[39;49m\u001b[39m\"\u001b[39;49m)\n",
      "\u001b[0;31mTypeError\u001b[0m: write_parsed_file_for_chapter() missing 1 required positional argument: 'chapter_number'"
     ]
    }
   ],
   "source": [
    "BOOK=\"dark_forest\"\n",
    "chapter_count = get_chapter_count_for_book(BOOK)\n",
    "\n",
    "for chapter in range(1, chapter_count+1):\n",
    "    write_parsed_file_for_chapter(BOOK, chapter)"
   ]
  },
  {
   "cell_type": "code",
   "execution_count": null,
   "metadata": {},
   "outputs": [],
   "source": [
    "BOOK=\"deaths_end\"\n",
    "chapter_count = get_chapter_count_for_book(BOOK)\n",
    "\n",
    "for chapter in range(1, chapter_count+1):\n",
    "    write_parsed_file_for_chapter(\"deaths_end\")"
   ]
  }
 ],
 "metadata": {
  "kernelspec": {
   "display_name": ".venv",
   "language": "python",
   "name": "python3"
  },
  "language_info": {
   "codemirror_mode": {
    "name": "ipython",
    "version": 3
   },
   "file_extension": ".py",
   "mimetype": "text/x-python",
   "name": "python",
   "nbconvert_exporter": "python",
   "pygments_lexer": "ipython3",
   "version": "3.11.4"
  },
  "orig_nbformat": 4
 },
 "nbformat": 4,
 "nbformat_minor": 2
}
