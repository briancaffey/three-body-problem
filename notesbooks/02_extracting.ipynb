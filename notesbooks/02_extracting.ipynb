{
 "cells": [
  {
   "cell_type": "code",
   "execution_count": 1,
   "metadata": {},
   "outputs": [],
   "source": [
    "# this notebook will use beautiful soup to extract text data from html files\n",
    "# each file will have the title as the first line and each paragraph as new lines"
   ]
  },
  {
   "cell_type": "code",
   "execution_count": 26,
   "metadata": {},
   "outputs": [],
   "source": [
    "from bs4 import BeautifulSoup\n",
    "import glob"
   ]
  },
  {
   "cell_type": "code",
   "execution_count": 27,
   "metadata": {},
   "outputs": [],
   "source": [
    "def get_soup_from_html(file_path):\n",
    "    with open(file_path, \"r+\") as f:\n",
    "        html = f.read()\n",
    "    soup = soup = BeautifulSoup(html, 'html.parser')\n",
    "    return soup"
   ]
  },
  {
   "cell_type": "code",
   "execution_count": 32,
   "metadata": {},
   "outputs": [],
   "source": [
    "def parse_chapter_html(html_file_path) -> (str, []):\n",
    "    soup = get_soup_from_html(html_file_path)\n",
    "    title = soup.find('h1', {'id': 'nr_title'}).text\n",
    "    main_div = soup.find('div', {'id': 'nr1'})\n",
    "    paragraphs = main_div.findChildren('p')\n",
    "    paragraphs_text = [p.text for p in paragraphs]\n",
    "    return title, paragraphs_text"
   ]
  },
  {
   "cell_type": "code",
   "execution_count": 33,
   "metadata": {},
   "outputs": [],
   "source": [
    "def get_chapters_for_book(book_path):\n",
    "    chapters = glob.glob(f\"../data/books/{book_path}/html/*\")\n",
    "    chapter_count = len(chapters)+1\n",
    "    chapters = [f\"../data/books/{book_path}/html/{i}_*\" for i in range(1, chapter_count)]\n",
    "    chapters = [glob.glob(pattern) for i, pattern in enumerate(chapters)]\n",
    "    chapters = [c[0] for c in chapters]\n",
    "    return chapters"
   ]
  },
  {
   "cell_type": "code",
   "execution_count": 38,
   "metadata": {},
   "outputs": [],
   "source": [
    "def write_chapter_text_file(book_path):\n",
    "    chapters = get_chapters_for_book(book_path)\n",
    "    for chapter in chapters:\n",
    "        title, paragraphs = parse_chapter_html(chapter)\n",
    "        with open(f\"../data/books/{book_path}/text/{chapter.split('/')[-1]}\", \"w+\") as f:\n",
    "            f.write(title)\n",
    "            f.write(\"\\n\")\n",
    "            for p in paragraphs:\n",
    "                if \"鲲\" not in p and \"弩\" not in p:\n",
    "                    f.write(p)\n",
    "                    f.write(\"\\n\")\n",
    "                else:\n",
    "                    print(p)\n"
   ]
  },
  {
   "cell_type": "code",
   "execution_count": 39,
   "metadata": {},
   "outputs": [
    {
     "name": "stdout",
     "output_type": "stream",
     "text": [
      "鲲 + 弩 + 小 + 說 +  k u n n u ~ co m-\n",
      "🐴 鲲 kun弩nu小 xiao说 shuo = w w w * ku n Nu * co m\n",
      "鲲·弩^小·说\n",
      " 鲲 # 弩 # 小 # 说 #   w ww # ku n Nu # co m\n",
      "🍟 鲲|弩|小|说|w w w |k u n n u | co m|\n",
      " +鲲-弩+小-说 ·\n",
      "🥑 鲲=弩=小=说~w w w =k u n n u = c om\n",
      " 鲲*弩*小*说ww w_k u n n u_c o m _\n",
      "💦 鲲 | 弩 | 小 | 说 | w w w |k u n n u | co M|\n",
      "鲲·弩^小·说\n",
      "🐢 鲲|弩|小|说|ww w |k u n n u | co M|\n",
      " -鲲-弩-小-说w ww ^ k u n n u^ c o m. \n",
      "鲲~弩~小~说~w w w -k u n n u - co m 💨\n",
      "🐬 鲲 = 弩 = 小 = 说~w w w =k u n n u = c om\n",
      "🐷 鲲`弩`小`说w w w . ku n Nu . c o m .\n",
      "🍓 鲲 # 弩 # 小 # 說 #  w ww # ku n Nu # Co M\n",
      "🐆 鲲l弩x小x说s = w w w * ku n Nu * co m\n",
      "🦀 鲲。弩。小。说。w ww…k u n N u…co m\n",
      "🤡 鲲`弩-小`说ww w ，K u n N u ，c o m\n",
      " 🌵 鲲+弩-小+說k u n n u - c o m +\n",
      " 鲲~弩~小~说~w ww -k u n n u - Co m\n",
      "💐 鲲l 弩x 小x 说s =  Ww w * k u n n u * co m\n",
      "👓 鲲·弩+小·说w ww - k u n n u - c om- \n",
      " 鲲 # 弩 # 小 # 说 #   w ww # ku n Nu # co m\n",
      " 鲲+弩+小+说+  w w w ~ k u n n u ~ co m-\n",
      "鲲^弩^小^说 🐪 w w w*k u n n u*c o m *\n",
      "🍵 鲲 · 弩 + 小 · 说 w Ww - k u n n u - c om- \n"
     ]
    }
   ],
   "source": [
    "write_chapter_text_file(\"three_body\")"
   ]
  },
  {
   "cell_type": "code",
   "execution_count": 40,
   "metadata": {},
   "outputs": [
    {
     "name": "stdout",
     "output_type": "stream",
     "text": [
      "🍀 鲲*弩*小*说* W ww … ku n Nu … c om\n",
      " +鲲-弩+小-說 🍏 w ww· k u n n u· c om·\n",
      "🍄 鲲·弩^小·说w w w…k u n N u…c o  m …\n",
      "鲲~弩~小~说~k u n n u - co m 💨\n",
      "。鲲。弩。小。说。🍒 w ww…k u n N u…co m\n",
      "鲲 + 弩 + 小 + 說 +  k u n n u ~ co m-\n",
      "👻 鲲·弩^小·说w W W…k u n N u…c o  m …\n",
      " 鲲 # 弩 # 小 # 说 #   w ww # ku n Nu # co m\n",
      "鲲^弩^小^说…\n",
      " 鲲`弩-小`说  Ww w # K u n N u # c o m\n",
      "🐏 鲲*弩*小*说ww w_k u n n u_c o m _\n",
      "💦 鲲 | 弩 | 小 | 说 | w w w |k u n n u | co M|\n",
      " 鲲 # 弩 # 小 # 说 #   w ww # ku n Nu # co m\n",
      "鲲·弩+小·说 - k u n n u - c om \n",
      " 鲲*弩*小*说ww w_k u n n u_c o m _\n",
      "🐷 鲲`弩`小`说w w w . ku n Nu . c o m .\n",
      "🍄 鲲·弩^小·说w w w…k u n N u…c o  m …\n",
      "🍎 鲲l弩x小x说s = w w w * ku n Nu * Co m\n",
      "鲲=弩=小=说\n",
      "鲲·弩^小·说 🐣 w w w…k u n N u…c O  m …\n",
      "💄 鲲^弩^小^说 w w w*k u n n u*c o m *\n",
      " 鲲·弩^小·说  w w w…k u n N u…c O  m …\n",
      " 鲲*弩*小*说* W ww … ku n Nu … c om\n",
      " 鲲`弩`小`说w w w . ku n Nu . c o m .\n",
      "🌽 鲲~弩~小~说~w w w -k u n n u - co m\n",
      "👓 鲲·弩+小·说w ww - k u n n u - c om- \n",
      " +鲲-弩+小-说  w ww· k u n n u· C om ·\n",
      " 鲲*弩*小*说 🌳 ww w_k u n n u_c o m _\n",
      "·鲲·弩…小·说 🍕 w w w_ku n Nu_c o m\n",
      "鲲*弩*小*说* 🐱 … K u n N u … c om\n",
      "·鲲·弩·小·说 🦄 w w w_k u n n u_c o m\n",
      " 🌵 鲲+弩-小+說k u n n u - c o m +\n",
      "章北海：“成吉思汗的骑兵，攻击速度与二十世纪的装甲部队相当；北宋的床弩，射程达一千五百米，与二十世纪的狙击步枪差不多；但这些仍不过是古代的骑兵与弓弩而已，不可能与现代力量抗衡。基础理论决定一切，未来史学派清楚地看到了这一点。而你们，却被回光返照的低级技术蒙住了眼睛。你们躺在现代文明的温床中安于享乐，对即将到来的决定人类命运的终极决战完全没有精神上的准备。”\n",
      "·鲲·弩·小·说  w w w_k u n n u_c o m\n",
      "🌽 鲲~弩~小~说~w w w -k u n n u - co m\n",
      "·鲲·弩·小·说  w w w_k u n n u_c o m\n",
      " 鲲^弩^小^说 w w w*k u n n u*c o m *\n",
      "鲲 kun弩nu小 xiao说 shuo\n",
      "。鲲。弩。小。说。🍒 w ww…k u n N u…co m\n",
      " 鲲*弩*小*说* W ww … ku n Nu … c om\n",
      "🐆 鲲l弩x小x说s = w w w * ku n Nu * co m\n",
      " 鲲~弩~小~说~w ww -k u n n u - Co m\n",
      " +鲲-弩+小-说 ·\n"
     ]
    }
   ],
   "source": [
    "write_chapter_text_file(\"dark_forest\")"
   ]
  },
  {
   "cell_type": "code",
   "execution_count": 41,
   "metadata": {},
   "outputs": [
    {
     "name": "stdout",
     "output_type": "stream",
     "text": [
      " 鲲·弩+小·说  w ww - k u n n u - c oM- \n",
      "鲲·弩^小·说\n",
      "鲲`弩-小`说 🌕 Ww w # K u n N u # c o m\n",
      "🐸 鲲。弩。小。说。w ww…k u n N u…co m\n",
      "-鲲-弩-小-说w ww ^ k u n n u^ c o m. 🍌\n",
      "💑 鲲=弩=小=说~w w w =k u n n u = C om\n",
      " 鲲·弩*小·说  ww w · k u n n u ·  Om\n",
      "鲲·弩^小·说 🐣 w w w…k u n N u…c O  m …\n",
      "火龙出水、连发弩和阶梯计划\n",
      "火龙出水和连发弩没能发挥两级导弹和机关枪的作用，同样，阶梯计划也难以把人类带入宇航新时代，它只是用当时的技术所进行的孤注一掷的努力。\n",
      " 鲲*弩*小*说* W ww … ku n Nu … c om\n",
      "🍟 鲲|弩|小|说|w w w |k u n n u | co m|\n",
      " 鲲|弩|小|说|ww w |k u n n u | co M|\n",
      " 鲲·弩+小·说  w ww - k u n n u - c oM- \n",
      "🐷 鲲`弩`小`说w w w . ku n Nu . c o m .\n",
      "鲲*弩*小*说* 🐱 … K u n N u … c om\n",
      "🤡 鲲`弩-小`说\n",
      "🍵 鲲 · 弩 + 小 · 说 w Ww - k u n n u - c om- \n",
      "鲲^弩^小^说…\n",
      " 鲲 = 弩 = 小 = 说~w w w =k u n n u = c om\n",
      "-鲲-弩-小-说w ww ^ k u n n u^ c o m. 🍌\n",
      " 鲲*弩*小*说k u n n u_c o m _\n",
      "-鲲-弩-小-说w ww ^ k u n n u^ c o m. 🌂\n",
      "🍇 鲲`弩`小`说w w w . ku n Nu . c o m .\n",
      "🍄 鲲·弩^小·说w w w…k u n N u…c o  m …\n",
      "·鲲·弩…小·说 🍕 w w w_ku n Nu_c o m\n",
      "鲲~弩~小~说~w w w -k u n n u - co m 💨\n",
      "🍅 鲲*弩*小*说* w WW … K u n N u … c om\n",
      "🐹 鲲+弩-小+说+ ww w +k u n n u - c o m +\n",
      "🍋 鲲*弩*小*说ww w_k u n n u_c o m _\n",
      "·鲲·弩·小·说 🍊 w w w_ku n Nu_c o m\n",
      " 鲲*弩*小*说 🌳 ww w_k u n n u_c o m _\n",
      "🍄 鲲·弩^小·说w w w…k u n N u…c o  m …\n",
      "🍟 鲲|弩|小|说|w w w |k u n n u | co m|\n",
      " 鲲 = 弩 = 小 = 说~w w w =k u n n u = c om\n",
      "🐬 鲲 = 弩 = 小 = 说~w w w =k u n n u = c om\n",
      "🍇 鲲`弩`小`说w w w . ku n Nu . c o m .\n",
      "鲲。弩。小。说。\n",
      "💑 鲲=弩=小=说~w w w =k u n n u = C om\n",
      "🐏 鲲*弩*小*说ww w_k u n n u_c o m _\n",
      "鲲^弩^小^说 🐪 w w w*k u n n u*c o m *\n",
      " 鲲|弩|小|说|ww w |k u n n u | co M|\n",
      " 鲲`弩-小`说  Ww w # K u n N u # c o m\n",
      "🐨 鲲#弩#小#说#  w ww # ku n Nu # co m\n",
      "🐢 鲲|弩|小|说|ww w |k u n n u | co M|\n",
      "🐴 鲲 kun弩nu小 xiao说 shuo = w w w * ku n Nu * co m\n",
      "鲲~弩~小~说~w w w -k u n n u - co m 💨\n",
      "🍵 鲲 · 弩 + 小 · 说 w Ww - k u n n u - c om- \n",
      "。鲲。弩。小。说。🍒 w ww…k u n N u…co m\n",
      "🐹 鲲+弩-小+说+ ww w +k u n n u - c o m +\n",
      "🌹 鲲+弩-小+说+ ww w +k u n n u - C o m +\n",
      "。鲲。弩。小。说。🍒 w ww…k u n N u…co m\n",
      "鲲^弩^小^说 🌼 w w w*k u n n u*c o M *\n"
     ]
    }
   ],
   "source": [
    "write_chapter_text_file(\"deaths_end\")"
   ]
  }
 ],
 "metadata": {
  "kernelspec": {
   "display_name": "Python 3 (ipykernel)",
   "language": "python",
   "name": "python3"
  },
  "language_info": {
   "codemirror_mode": {
    "name": "ipython",
    "version": 3
   },
   "file_extension": ".py",
   "mimetype": "text/x-python",
   "name": "python",
   "nbconvert_exporter": "python",
   "pygments_lexer": "ipython3",
   "version": "3.10.12"
  }
 },
 "nbformat": 4,
 "nbformat_minor": 4
}
