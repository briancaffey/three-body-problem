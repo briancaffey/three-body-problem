{
 "cells": [
  {
   "cell_type": "code",
   "execution_count": null,
   "metadata": {},
   "outputs": [],
   "source": []
  },
  {
   "cell_type": "code",
   "execution_count": null,
   "metadata": {},
   "outputs": [],
   "source": [
    "import numpy as np\n",
    "import cupy as cp\n",
    "\n",
    "G = 10\n",
    "\n",
    "def compute_distances(r):\n",
    "    # Calculate distances between particles using matrix operations\n",
    "    delta_r = r[:, None, :] - r[None, :, :]\n",
    "    distances = cp.sqrt(cp.sum(delta_r**2, axis=-1))\n",
    "    return distances, delta_r\n"
   ]
  },
  {
   "cell_type": "code",
   "execution_count": null,
   "metadata": {},
   "outputs": [],
   "source": [
    "def compute_forces(r, m):\n",
    "    distances, delta_r = compute_distances(r)\n",
    "    distances = cp.where(cp.eye(len(m)) == 1, 1, distances) + 1e-9  # avoid division by zero\n",
    "    forces_dir = -delta_r/distances[:, :, None]\n",
    "    print(\"m:None\")\n",
    "    print(m[:, None])\n",
    "    print(\"mNone:\")\n",
    "    print(m[None,:])    \n",
    "    # Compute forces using Newton's law of universal gravitation\n",
    "    forces_mag = G * m[None, :] * m[:, None] / distances**2\n",
    "    forces = forces_mag[:, :, None] * forces_dir\n",
    "    return cp.sum(forces, axis=1)"
   ]
  },
  {
   "cell_type": "code",
   "execution_count": null,
   "metadata": {},
   "outputs": [],
   "source": [
    "# Initialize positions, velocities, and masses\n",
    "r = cp.array([[0, 0, 1], [0, -4, 0], [0, 4, 0]], dtype=cp.float32)  # positions\n",
    "v = cp.array([[0, 0.02, 0], [2, 0, 0], [-2, 0, 0]], dtype=cp.float32)  # velocities\n",
    "m = cp.array([1.0, 1.0, 1.0], dtype=cp.float32)  # masses\n",
    "\n",
    "np_ticks = np.expand_dims(r, axis=0)\n",
    "cp_ticks = cp.array(np_ticks)"
   ]
  },
  {
   "cell_type": "code",
   "execution_count": null,
   "metadata": {},
   "outputs": [],
   "source": [
    "dt = 0.1\n",
    "iterations = 1000\n",
    "\n",
    "for _ in range(iterations):\n",
    "    forces = compute_forces(r, m)\n",
    "    v += forces * dt\n",
    "    r += v * dt\n",
    "    cp_ticks = cp.append(cp_ticks, cp.expand_dims(r, 0), 0)\n",
    "    if _ % 20 == 0:\n",
    "        print(r)\n",
    "\n",
    "# Transfer the result from GPU to CPU using cp.asnumpy() if necessary\n",
    "final_positions = cp.asnumpy(r)\n",
    "print(\"Final positions:\\n\", final_positions)\n",
    "\n",
    "final_velocities = cp.asnumpy(v)\n",
    "print(\"Final Velocities:\\n\", final_velocities)\n",
    "\n",
    "class NumpyArrayEncoder(json.JSONEncoder):\n",
    "    def default(self, obj):\n",
    "        if isinstance(obj, np.ndarray):\n",
    "            return obj.tolist()\n",
    "        return json.JSONEncoder.default(self, obj)\n",
    "\n",
    "\n",
    "np_ticks = cp_ticks.get()\n",
    "\n",
    "\n",
    "# this is data we can work with in python and write to a file\n",
    "with open(\"ticks.json\", \"w\") as f:\n",
    "    f.write(json.dumps(np_ticks, cls=NumpyArrayEncoder))\n"
   ]
  }
 ],
 "metadata": {
  "language_info": {
   "name": "python"
  },
  "orig_nbformat": 4
 },
 "nbformat": 4,
 "nbformat_minor": 2
}
