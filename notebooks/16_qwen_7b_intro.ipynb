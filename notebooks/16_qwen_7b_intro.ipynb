{
 "cells": [
  {
   "cell_type": "code",
   "execution_count": 1,
   "id": "2516bf87-5ced-445a-a7d3-2ea1c023f8a5",
   "metadata": {},
   "outputs": [],
   "source": [
    "from transformers import AutoModelForCausalLM, AutoTokenizer\n",
    "from transformers.generation import GenerationConfig\n",
    "import json"
   ]
  },
  {
   "cell_type": "code",
   "execution_count": 2,
   "id": "45775991",
   "metadata": {
    "scrolled": true
   },
   "outputs": [
    {
     "name": "stdout",
     "output_type": "stream",
     "text": [
      "setting up tokenizer\n",
      "setting up AutoModelForCausalLM\n"
     ]
    },
    {
     "name": "stderr",
     "output_type": "stream",
     "text": [
      "The model is automatically converting to bf16 for faster inference. If you want to disable the automatic precision, please manually add bf16/fp16/fp32=True to \"AutoModelForCausalLM.from_pretrained\".\n",
      "Try importing flash-attention for faster inference...\n",
      "Warning: import flash_attn rotary fail, please install FlashAttention rotary to get higher efficiency https://github.com/Dao-AILab/flash-attention/tree/main/csrc/rotary\n",
      "Warning: import flash_attn rms_norm fail, please install FlashAttention layer_norm to get higher efficiency https://github.com/Dao-AILab/flash-attention/tree/main/csrc/layer_norm\n",
      "Warning: import flash_attn fail, please install FlashAttention to get higher efficiency https://github.com/Dao-AILab/flash-attention\n"
     ]
    },
    {
     "data": {
      "application/vnd.jupyter.widget-view+json": {
       "model_id": "c4d45ae98c6842aba60cd3075c180d65",
       "version_major": 2,
       "version_minor": 0
      },
      "text/plain": [
       "Loading checkpoint shards:   0%|          | 0/8 [00:00<?, ?it/s]"
      ]
     },
     "metadata": {},
     "output_type": "display_data"
    },
    {
     "name": "stdout",
     "output_type": "stream",
     "text": [
      "GenerationConfig\n"
     ]
    }
   ],
   "source": [
    "# using a mirror since the model was temporarily taken off of HuggingFace, not sure why\n",
    "REPO_NAME = \"tangger/Qwen-7B-Chat\"\n",
    "print(\"setting up tokenizer\")\n",
    "tokenizer = AutoTokenizer.from_pretrained(REPO_NAME, trust_remote_code=True)\n",
    "print(\"setting up AutoModelForCausalLM\")\n",
    "model = AutoModelForCausalLM.from_pretrained(REPO_NAME, device_map=\"auto\", trust_remote_code=True).eval()\n",
    "print(\"GenerationConfig\")\n",
    "model.generation_config = GenerationConfig.from_pretrained(REPO_NAME, trust_remote_code=True)"
   ]
  },
  {
   "cell_type": "code",
   "execution_count": 6,
   "id": "aebfb674",
   "metadata": {},
   "outputs": [
    {
     "name": "stdout",
     "output_type": "stream",
     "text": [
      "“温故而知新”是一句中国古谚语，它的意思是通过复习旧知识来获得新的知识。它强调了复习的重要性，以及如何从旧知识中获取新的见解。\n"
     ]
    }
   ],
   "source": [
    "prompt = \"解释一下“温故而知新”\"\n",
    "response, _ = model.chat(tokenizer, prompt, history=None)\n",
    "print(response)"
   ]
  },
  {
   "cell_type": "code",
   "execution_count": null,
   "id": "2890d72d-f851-458f-b93f-c06a2b0db7b0",
   "metadata": {},
   "outputs": [],
   "source": [
    "for i in range(32,37): \n",
    "    print(f\"===Translating chapter {i}===\")\n",
    "    translate_chapter(model, tokenizer, \"three_body\", i)\n",
    "    print(f\"===Finished translating {i}\")\n"
   ]
  }
 ],
 "metadata": {
  "kernelspec": {
   "display_name": "Python 3 (ipykernel)",
   "language": "python",
   "name": "python3"
  },
  "language_info": {
   "codemirror_mode": {
    "name": "ipython",
    "version": 3
   },
   "file_extension": ".py",
   "mimetype": "text/x-python",
   "name": "python",
   "nbconvert_exporter": "python",
   "pygments_lexer": "ipython3",
   "version": "3.10.12"
  }
 },
 "nbformat": 4,
 "nbformat_minor": 5
}
