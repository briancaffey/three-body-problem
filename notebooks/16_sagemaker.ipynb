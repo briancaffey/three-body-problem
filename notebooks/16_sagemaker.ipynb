{
 "cells": [
  {
   "cell_type": "markdown",
   "metadata": {},
   "source": [
    "### Running HuggingFace models on SageMaker\n",
    "\n",
    "We can use SageMaker to set up an endpoint that we can call inference on from our local machine\n",
    "\n",
    "There is a Pulumi program in the `pulumi` repo. It can be called using the `inference.py` script:\n",
    "\n",
    "```\n",
    "python3 inference.py $(pulumi stack output EndpointName)\n",
    "```"
   ]
  },
  {
   "cell_type": "markdown",
   "metadata": {},
   "source": [
    "- [ ] Currently trying to figure out why the `HF_MODEL_ID` `baichuan-inc/Baichuan2-13B-Chat` is not working"
   ]
  },
  {
   "cell_type": "markdown",
   "metadata": {},
   "source": []
  }
 ],
 "metadata": {
  "kernelspec": {
   "display_name": ".venv",
   "language": "python",
   "name": "python3"
  },
  "language_info": {
   "codemirror_mode": {
    "name": "ipython",
    "version": 3
   },
   "file_extension": ".py",
   "mimetype": "text/x-python",
   "name": "python",
   "nbconvert_exporter": "python",
   "pygments_lexer": "ipython3",
   "version": "3.11.4"
  },
  "orig_nbformat": 4
 },
 "nbformat": 4,
 "nbformat_minor": 2
}
