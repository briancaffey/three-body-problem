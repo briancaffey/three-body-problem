{
 "cells": [
  {
   "cell_type": "markdown",
   "metadata": {},
   "source": [
    "## Create a fade effect between the original 20 yuan note and the inpainted version\n",
    "\n",
    "```\n",
    "ffmpeg -loop 1 -t 2 -i img/20d.png -loop 1 -t 2 -i img/20c.png -r 5 -filter_complex \"[0][1]xfade=transition=fade:duration=2:offset=0,split[s0][s1];[s0]palettegen[p];[s1][p]paletteuse\" -loop 0 img/first.gif\n",
    "```\n",
    "\n",
    "```\n",
    "ffmpeg -i img/first.gif -vf reverse img/second.gif\n",
    "```\n",
    "\n",
    "```\n",
    "ffmpeg -i img/first.gif -i img/second.gif -filter_complex \"[0:v][1:v]concat=n=2:v=1:a=0\" -vsync 2 img/combined.gif\n",
    "```"
   ]
  },
  {
   "cell_type": "markdown",
   "metadata": {},
   "source": [
    "### create a gif called pre.gif with the first image for 5\n",
    "\n",
    "```\n",
    "ffmpeg -loop 1 -t 3 -i img/20d.png -r 5 -loop 0 img/pre.gif\n",
    "```"
   ]
  },
  {
   "cell_type": "markdown",
   "metadata": {},
   "source": [
    "### create a gif called post.gif with the second image for 5\n",
    "\n",
    "```\n",
    "ffmpeg -loop 1 -t 5 -i img/20c.png -r 5 -loop 0 img/post.gif\n",
    "```"
   ]
  },
  {
   "cell_type": "markdown",
   "metadata": {},
   "source": [
    "```\n",
    "ffmpeg -i img/first.gif -i img/second.gif -filter_complex \"[0:v][1:v]concat=n=2:v=1:a=0\" -vsync 2 img/combined.gif\n",
    "```"
   ]
  },
  {
   "cell_type": "markdown",
   "metadata": {},
   "source": [
    "## Combine pre and first and then second and post and then combine part1 and part2 to twenty.gif\n",
    "\n",
    "```\n",
    "ffmpeg -i img/pre.gif -i img/first.gif -filter_complex \"[0:v][1:v]concat=n=2:v=1:a=0\" -vsync 2 img/part1.gif\n",
    "```\n",
    "\n",
    "```\n",
    "ffmpeg -i img/part1.gif -i img/post.gif -filter_complex \"[0:v][1:v]concat=n=2:v=1:a=0\" -vsync 2 img/part2.gif\n",
    "```\n",
    "\n",
    "```\n",
    "ffmpeg -i img/part2.gif -vf reverse img/part3.gif\n",
    "```\n",
    "\n",
    "```\n",
    "ffmpeg -i img/part2.gif -i img/part3.gif -filter_complex \"[0:v][1:v]concat=n=2:v=1:a=0\" -vsync 2 img/twenty.gif\n",
    "```"
   ]
  },
  {
   "cell_type": "markdown",
   "metadata": {},
   "source": [
    "```\n",
    "ffmpeg -i img/twenty.gif -filter:v \"fps=fps=1\" img/twenty_small.gif\n",
    "```"
   ]
  },
  {
   "cell_type": "markdown",
   "metadata": {},
   "source": []
  }
 ],
 "metadata": {
  "kernelspec": {
   "display_name": ".venv",
   "language": "python",
   "name": "python3"
  },
  "language_info": {
   "codemirror_mode": {
    "name": "ipython",
    "version": 3
   },
   "file_extension": ".py",
   "mimetype": "text/x-python",
   "name": "python",
   "nbconvert_exporter": "python",
   "pygments_lexer": "ipython3",
   "version": "3.11.4"
  }
 },
 "nbformat": 4,
 "nbformat_minor": 2
}
