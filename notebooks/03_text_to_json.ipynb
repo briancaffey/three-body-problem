{
 "cells": [
  {
   "cell_type": "markdown",
   "metadata": {},
   "source": [
    "# text_to_json\n",
    "\n",
    "This notebook will take the raw text files and convert them into structured JSON\n",
    "\n",
    "## JSON structure\n",
    "\n",
    "We have the following structure:\n",
    "\n",
    "- Book\n",
    "    - Chapter\n",
    "        - Title (first line)\n",
    "        - Paragraphs (all other lines)\n",
    "\n",
    "The JSON structure should be similar:\n",
    "\n",
    "```json\n",
    "{\n",
    "    \"title\": \"My Book\",\n",
    "    \"chapters\": [{\n",
    "        \"name\": \"Chapter 1\",\n",
    "        \"paragraphs\": [\n",
    "            {\n",
    "                \"text\": \"this is a paragraph\",\n",
    "                \"parsed_text\": [\"this\", \"is\", \"a\", \"paragraph\"],\n",
    "                \"parsed_text\": [\n",
    "                    {\n",
    "                        \"word\": \"this\",\n",
    "                        \"definition\": \"an article that refers to something\"\n",
    "                    },\n",
    "                    {\n",
    "                        \"word\": \"is\",\n",
    "                        \"definition\": \"2nd person of to be\"\n",
    "                    },\n",
    "                    {\n",
    "                        \"word\": \"a\",\n",
    "                        \"definition\": \"an article that refers to one of something\"\n",
    "                    },\n",
    "                    {\n",
    "                        \"word\": \"paragraph\",\n",
    "                        \"definition\": \"a group of printed words that forms a collection of ideas in writing\"\n",
    "                    }\n",
    "                ]\n",
    "            }\n",
    "        ]\n",
    "    }],\n",
    "    \"characters\": [{\n",
    "        \"character\": \"shi\",\n",
    "        \"occurences\": 1,\n",
    "        \"rank_in_book\": 1,\n",
    "        \"rank_in_chinese\": 4,\n",
    "    }],\n",
    "    \"words\": [{\n",
    "        \"characters\": \"nihao\",\n",
    "        \"pinyin\": \"nihao\",\n",
    "        \"occurences\": 1,\n",
    "        \"meanings\" [\"hello\"]\n",
    "    }]\n",
    "}\n",
    "```"
   ]
  },
  {
   "cell_type": "code",
   "execution_count": 2,
   "metadata": {},
   "outputs": [],
   "source": [
    "import glob\n",
    "\n",
    "def get_chapters_for_book(book_path):\n",
    "    chapters = glob.glob(f\"../data/books/{book_path}/text/*\")\n",
    "    chapter_count = len(chapters)+1\n",
    "    chapters = [f\"../data/books/{book_path}/text/{i}_*\" for i in range(1, chapter_count)]\n",
    "    chapters = [glob.glob(pattern) for i, pattern in enumerate(chapters)]\n",
    "    chapters = [c[0] for c in chapters]\n",
    "    return chapters"
   ]
  },
  {
   "cell_type": "code",
   "execution_count": 3,
   "metadata": {},
   "outputs": [],
   "source": [
    "def get_paragraph_json_from_file(file_path):\n",
    "    with open(file_path, \"r+\") as f:\n",
    "        # paragraph_text = f.read()\n",
    "        title = f.readline().strip()\n",
    "        paragraphs = [x.strip() for x in f.readlines()]\n",
    "    return title, paragraphs"
   ]
  },
  {
   "cell_type": "code",
   "execution_count": 4,
   "metadata": {},
   "outputs": [],
   "source": [
    "import json\n",
    "\n",
    "def write_json_file_from_chapter_texts(book_path, book_name):\n",
    "    chapter_file_paths = get_chapters_for_book(book_path)\n",
    "\n",
    "    chapter_data = []\n",
    "\n",
    "    for file_path in chapter_file_paths:\n",
    "        title, paragraphs = get_paragraph_json_from_file(file_path)\n",
    "        chapter_data.append({'title': title, 'paragraphs': paragraphs})\n",
    "\n",
    "    book_data = {'title': book_name}\n",
    "    book_data[\"chapters\"] = chapter_data\n",
    "\n",
    "    with open(f\"../data/books/{book_path}/book_data.json\", \"w+\") as f:\n",
    "        json.dump(book_data, f, ensure_ascii=False)"
   ]
  },
  {
   "cell_type": "code",
   "execution_count": 11,
   "metadata": {},
   "outputs": [],
   "source": [
    "write_json_file_from_chapter_texts(\"dark_forest\", \"dark forest\")"
   ]
  },
  {
   "cell_type": "code",
   "execution_count": 5,
   "metadata": {},
   "outputs": [],
   "source": [
    "write_json_file_from_chapter_texts(\"deaths_end\", \"deaths end\")"
   ]
  },
  {
   "cell_type": "markdown",
   "metadata": {},
   "source": [
    "# Parsing\n",
    "\n",
    "Now that we have the basic text in a json format, we can work on parsing the individual paragraphs using spacy. This will be continued in a `parsing.ipynb`."
   ]
  }
 ],
 "metadata": {
  "kernelspec": {
   "display_name": "Python 3 (ipykernel)",
   "language": "python",
   "name": "python3"
  },
  "language_info": {
   "codemirror_mode": {
    "name": "ipython",
    "version": 3
   },
   "file_extension": ".py",
   "mimetype": "text/x-python",
   "name": "python",
   "nbconvert_exporter": "python",
   "pygments_lexer": "ipython3",
   "version": "3.10.12"
  }
 },
 "nbformat": 4,
 "nbformat_minor": 4
}
