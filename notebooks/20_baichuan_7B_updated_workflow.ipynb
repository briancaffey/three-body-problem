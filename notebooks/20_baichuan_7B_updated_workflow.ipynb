{
 "cells": [
  {
   "cell_type": "code",
   "execution_count": 1,
   "metadata": {},
   "outputs": [],
   "source": [
    "from llm import LlmHelper"
   ]
  },
  {
   "cell_type": "code",
   "execution_count": 2,
   "metadata": {},
   "outputs": [
    {
     "name": "stdout",
     "output_type": "stream",
     "text": [
      "set up tokenizer... ✅\n",
      "set up AutoModelForCausalLM... ✅\n",
      "GenerationConfig... ✅\n"
     ]
    }
   ],
   "source": [
    "model = LlmHelper(\"baichuan-inc/Baichuan2-7B-Chat\")"
   ]
  },
  {
   "cell_type": "code",
   "execution_count": 16,
   "metadata": {},
   "outputs": [],
   "source": [
    "TEXT = \"“红色联合”对“四·二八兵团”总部大楼的攻击已持续了两天，他们的旗帜在大楼周围躁动地飘扬着，仿佛渴望干柴的火种。“红色联合”的指挥官心急如焚，他并不惧怕大楼的守卫者，那二百多名“四·二八”战士，与诞生于l966年初、经历过大检阅和大串联的“红色联合”相比要稚嫩许多。他怕的是大楼中那十几个大铁炉子，里面塞满了烈性炸药，用电雷管串联起来，他看不到它们，但能感觉到它们磁石般的存在，开关一合，玉石俱焚，而“四·二八”的那些小红卫兵们是有这个精神力量的。比起已经在风雨中成熟了许多的第一代红卫兵，新生的造反派们像火炭上的狼群，除了疯狂还是疯狂。\""
   ]
  },
  {
   "cell_type": "code",
   "execution_count": 6,
   "metadata": {},
   "outputs": [],
   "source": [
    "TEXT2 = \"Translate to English: 她最后发现自己来到了阮雯的家门前，在大学四年中，阮老师一直是她的班主任，也是她最亲密的朋友。在叶文洁读天体物理专业研究生的两年里，再到后来停课闹革命至今，阮老师一直是她除父亲外最亲近的人。阮雯曾留学剑桥，她的家曾对叶文洁充满了吸引力，那里有许多从欧洲带回来的精致的书籍、油画和唱片，一架钢琴；还有一排放在精致小木架上的欧式烟斗，父亲那只就是她送的，这些烟斗有地中海石楠根的，有土耳其海泡石的，每一个都仿佛浸透了曾将它们拿在手中和含在嘴里深思的那个男人的智慧，但阮雯从未提起过他。这个雅致温暖的小世界成为文洁逃避尘世风暴的港湾。但那是阮雯的家被抄之前的事，她在运动中受到的冲击和文洁父亲一样重，在批斗会上，红卫兵把高跟鞋挂到她脖子上，用口红在她的脸上划出许多道子，以展示她那腐朽的资产阶级生活方式。\""
   ]
  },
  {
   "cell_type": "code",
   "execution_count": 7,
   "metadata": {},
   "outputs": [],
   "source": [
    "translation = model.inference(None, TEXT2)"
   ]
  },
  {
   "cell_type": "code",
   "execution_count": 8,
   "metadata": {},
   "outputs": [
    {
     "name": "stdout",
     "output_type": "stream",
     "text": [
      "文洁的父亲是那个时代的知识分子，他热爱文学、哲学和历史，但他也深知自己的地位危险。在文洁的记忆里，父亲总是在阅读，或者坐在窗边沉思。他告诉过女儿，知识是人类的宝藏，必须珍惜。然而，在那个时代，知识分子的命运多舛，文洁的父亲未能幸免。\n",
      "\n",
      "文洁的母亲在运动开始后，因为承受不住压力，精神崩溃了。她时常陷入恍惚状态，对周围的一切视而不见。文洁和她的弟弟不得不照顾母亲，但他们自己也无法摆脱恐惧和无助。文洁记得，有一天晚上，她偷偷溜进父亲的房间，想要寻找一些安慰。但她看到的只是父亲孤独地躺在床上一动不动，仿佛已经死去。\n",
      "\n",
      "在那段黑暗的日子里，文洁和弟弟只能依靠彼此的陪伴。他们相互扶持，度过了一个又一个不眠之夜。然而，他们的父母无法逃脱命运，文洁的父亲在批斗会后不久便离世，而她的母亲也在不久后病逝。文洁和弟弟失去了亲人的依靠，但他们依然坚定地相信，生活还要继续。\n",
      "\n",
      "运动结束后，文洁和弟弟努力重建家园。他们在废墟中寻找父母的遗物，试图找回那些失去的时光。然而，一切都已经改变了，他们的家不再是一个温暖的港湾，而是一个破碎的梦。文洁决定离开家乡，去远方寻求新的希望。她带着弟弟的祝福，踏上了未知的征程。\n"
     ]
    }
   ],
   "source": [
    "print(translation)"
   ]
  },
  {
   "cell_type": "code",
   "execution_count": null,
   "metadata": {},
   "outputs": [],
   "source": []
  }
 ],
 "metadata": {
  "kernelspec": {
   "display_name": "Python 3 (ipykernel)",
   "language": "python",
   "name": "python3"
  },
  "language_info": {
   "codemirror_mode": {
    "name": "ipython",
    "version": 3
   },
   "file_extension": ".py",
   "mimetype": "text/x-python",
   "name": "python",
   "nbconvert_exporter": "python",
   "pygments_lexer": "ipython3",
   "version": "3.10.12"
  }
 },
 "nbformat": 4,
 "nbformat_minor": 4
}
