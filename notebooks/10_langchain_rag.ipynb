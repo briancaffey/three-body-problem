{
 "cells": [
  {
   "cell_type": "code",
   "execution_count": 1,
   "metadata": {},
   "outputs": [],
   "source": [
    "# Let's use LangChain to set up document retrieval "
   ]
  },
  {
   "cell_type": "markdown",
   "metadata": {},
   "source": [
    "# Text splitting\n",
    "\n",
    "let's go through all of the chapters and get a sense of how many words are in each paragraph"
   ]
  },
  {
   "cell_type": "markdown",
   "metadata": {},
   "source": []
  },
  {
   "cell_type": "code",
   "execution_count": 6,
   "metadata": {},
   "outputs": [],
   "source": [
    "# let's write a loop that will get the character count for each paragraph in the book\n",
    "import glob\n",
    "CHAPTER_DIR = \"../data/books/three_body/text/*\""
   ]
  },
  {
   "cell_type": "code",
   "execution_count": 7,
   "metadata": {},
   "outputs": [],
   "source": [
    "files = glob.glob(CHAPTER_DIR)"
   ]
  },
  {
   "cell_type": "code",
   "execution_count": 31,
   "metadata": {},
   "outputs": [
    {
     "name": "stdout",
     "output_type": "stream",
     "text": [
      "36 chapters in the book\n",
      "188380 characters in the book\n",
      "average of 69.78 chapters per paragraph\n",
      "total of 2512 in the book\n",
      "average of 74.99 characters per paragraph\n"
     ]
    }
   ],
   "source": [
    "paragraph_lengths = []\n",
    "\n",
    "for text_file in files[:]:\n",
    "    with open(text_file, \"r\") as f:\n",
    "        lines = f.readlines()\n",
    "        line_lengths = [len(line) for line in lines]\n",
    "        paragraph_lengths += line_lengths\n",
    "\n",
    "print(f\"{len(files)} chapters in the book\")\n",
    "print(f\"{sum(paragraph_lengths)} characters in the book\")\n",
    "print(f\"average of {len(paragraph_lengths)/len(files):.2f} chapters per paragraph\")\n",
    "print(f\"total of {len(paragraph_lengths)} in the book\")\n",
    "print(f\"average of {sum(paragraph_lengths)/len(paragraph_lengths):.2f} characters per paragraph\")"
   ]
  },
  {
   "cell_type": "code",
   "execution_count": 39,
   "metadata": {},
   "outputs": [
    {
     "data": {
      "image/png": "[encoded data removed]",
      "text/plain": [
       "<Figure size 1000x400 with 1 Axes>"
      ]
     },
     "metadata": {},
     "output_type": "display_data"
    }
   ],
   "source": [
    "import matplotlib.pyplot as plt\n",
    "import numpy as np\n",
    "\n",
    "data = paragraph_lengths\n",
    "plt.style.use('dark_background')\n",
    "\n",
    "# Create a histogram\\\n",
    "plt.figure(figsize=(10,4))\n",
    "plt.hist(data, bins=500, color='red', alpha=0.8)\n",
    "plt.xlabel('Number of characters per paragraph')\n",
    "plt.ylabel('Count')\n",
    "plt.title('Histogram showing paragraph character counts')\n",
    "plt.grid(True)\n",
    "plt.xlim([0, 500])\n",
    "\n",
    "plt.savefig(\"../img/hist.png\")\n",
    "plt.show()"
   ]
  },
  {
   "cell_type": "markdown",
   "metadata": {},
   "source": [
    "We could try putting the entire book into a single document and then splitting on `\\n` (newline)."
   ]
  },
  {
   "cell_type": "code",
   "execution_count": 45,
   "metadata": {},
   "outputs": [],
   "source": [
    "# write all chapter text files to a single document\n",
    "CHAPTER_DIR = \"../data/books/three_body/text/*\"\n",
    "\n",
    "# TODO: fix order of chapters\n",
    "# does order matter with this text loader/transformer?\n",
    "chapter_files = glob.glob(CHAPTER_DIR)\n",
    "\n",
    "with open(\"../data/books/three_body/full_text_cn.txt\", \"w\") as f:\n",
    "    for chapter_file in chapter_files:\n",
    "        with open(chapter_file, \"r\") as c_f:\n",
    "            f.write(c_f.read())\n",
    "            # f.write(\"\\n\")"
   ]
  },
  {
   "cell_type": "code",
   "execution_count": 51,
   "metadata": {},
   "outputs": [],
   "source": [
    "from langchain.text_splitter import RecursiveCharacterTextSplitter\n",
    "\n",
    "text_splitter = RecursiveCharacterTextSplitter(\n",
    "    # Set a really small chunk size, just to show.\n",
    "    chunk_size = 400,\n",
    "    separators = [\"\\n\"],\n",
    "    keep_separator = False,\n",
    "    chunk_overlap  = 20,\n",
    "    length_function = len,\n",
    "    add_start_index = True,\n",
    ")"
   ]
  },
  {
   "cell_type": "code",
   "execution_count": 53,
   "metadata": {},
   "outputs": [],
   "source": [
    "with open(\"../data/books/three_body/full_text_cn.txt\", \"r\") as f:\n",
    "    three_body_book = f.read()\n",
    "\n",
    "\n",
    "texts = text_splitter.create_documents([three_body_book])"
   ]
  },
  {
   "cell_type": "code",
   "execution_count": null,
   "metadata": {},
   "outputs": [],
   "source": []
  }
 ],
 "metadata": {
  "kernelspec": {
   "display_name": "Python 3 (ipykernel)",
   "language": "python",
   "name": "python3"
  },
  "language_info": {
   "codemirror_mode": {
    "name": "ipython",
    "version": 3
   },
   "file_extension": ".py",
   "mimetype": "text/x-python",
   "name": "python",
   "nbconvert_exporter": "python",
   "pygments_lexer": "ipython3",
   "version": "3.10.12"
  }
 },
 "nbformat": 4,
 "nbformat_minor": 4
}
