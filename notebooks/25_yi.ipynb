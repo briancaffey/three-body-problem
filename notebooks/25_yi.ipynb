{
 "cells": [
  {
   "cell_type": "code",
   "execution_count": 1,
   "metadata": {},
   "outputs": [
    {
     "ename": "TypeError",
     "evalue": "Stack.__init__() missing 1 required positional argument: 'mode'",
     "output_type": "error",
     "traceback": [
      "\u001b[0;31m---------------------------------------------------------------------------\u001b[0m",
      "\u001b[0;31mTypeError\u001b[0m                                 Traceback (most recent call last)",
      "\u001b[1;32m/Users/brian/git/github/three-body-problem/notebooks/25_yi.ipynb Cell 1\u001b[0m line \u001b[0;36m2\n\u001b[1;32m     <a href='vscode-notebook-cell:/Users/brian/git/github/three-body-problem/notebooks/25_yi.ipynb#W0sZmlsZQ%3D%3D?line=21'>22</a>\u001b[0m         \u001b[39mreturn\u001b[39;00m \u001b[39m\"\u001b[39m\u001b[39mOutput not found\u001b[39m\u001b[39m\"\u001b[39m\n\u001b[1;32m     <a href='vscode-notebook-cell:/Users/brian/git/github/three-body-problem/notebooks/25_yi.ipynb#W0sZmlsZQ%3D%3D?line=23'>24</a>\u001b[0m \u001b[39m# Replace 'my_stack' with the name of your stack\u001b[39;00m\n\u001b[0;32m---> <a href='vscode-notebook-cell:/Users/brian/git/github/three-body-problem/notebooks/25_yi.ipynb#W0sZmlsZQ%3D%3D?line=24'>25</a>\u001b[0m \u001b[39mprint\u001b[39m(get_stack_output(\u001b[39m\"\u001b[39;49m\u001b[39maws-sagemaker-huggingface-llm-inference/dev\u001b[39;49m\u001b[39m\"\u001b[39;49m))\n",
      "\u001b[1;32m/Users/brian/git/github/three-body-problem/notebooks/25_yi.ipynb Cell 1\u001b[0m line \u001b[0;36m9\n\u001b[1;32m      <a href='vscode-notebook-cell:/Users/brian/git/github/three-body-problem/notebooks/25_yi.ipynb#W0sZmlsZQ%3D%3D?line=5'>6</a>\u001b[0m workspace \u001b[39m=\u001b[39m LocalWorkspace()\n\u001b[1;32m      <a href='vscode-notebook-cell:/Users/brian/git/github/three-body-problem/notebooks/25_yi.ipynb#W0sZmlsZQ%3D%3D?line=7'>8</a>\u001b[0m \u001b[39m# Select the stack\u001b[39;00m\n\u001b[0;32m----> <a href='vscode-notebook-cell:/Users/brian/git/github/three-body-problem/notebooks/25_yi.ipynb#W0sZmlsZQ%3D%3D?line=8'>9</a>\u001b[0m stack \u001b[39m=\u001b[39m Stack(name\u001b[39m=\u001b[39;49mstack_name, workspace\u001b[39m=\u001b[39;49mworkspace)\n\u001b[1;32m     <a href='vscode-notebook-cell:/Users/brian/git/github/three-body-problem/notebooks/25_yi.ipynb#W0sZmlsZQ%3D%3D?line=10'>11</a>\u001b[0m \u001b[39m# Refresh the stack to ensure we have the latest state\u001b[39;00m\n\u001b[1;32m     <a href='vscode-notebook-cell:/Users/brian/git/github/three-body-problem/notebooks/25_yi.ipynb#W0sZmlsZQ%3D%3D?line=11'>12</a>\u001b[0m stack\u001b[39m.\u001b[39mrefresh()\n",
      "\u001b[0;31mTypeError\u001b[0m: Stack.__init__() missing 1 required positional argument: 'mode'"
     ]
    }
   ],
   "source": [
    "import pulumi\n",
    "from pulumi.automation import LocalWorkspace, Stack\n",
    "\n",
    "def get_stack_output(stack_name):\n",
    "    # Initialize a local workspace (assumes Pulumi is already set up)\n",
    "    workspace = LocalWorkspace()\n",
    "\n",
    "    # Select the stack\n",
    "    stack = Stack(name=stack_name, workspace=workspace)\n",
    "\n",
    "    # Refresh the stack to ensure we have the latest state\n",
    "    stack.refresh()\n",
    "\n",
    "    # Get the stack's outputs\n",
    "    outputs = stack.outputs()\n",
    "\n",
    "    # Assuming you know the name of the output you want\n",
    "    output_name = \"my_output\"\n",
    "    if output_name in outputs:\n",
    "        return outputs[output_name].value\n",
    "    else:\n",
    "        return \"Output not found\"\n",
    "\n",
    "# Replace 'my_stack' with the name of your stack\n",
    "print(get_stack_output(\"aws-sagemaker-huggingface-llm-inference/dev\"))\n"
   ]
  },
  {
   "cell_type": "code",
   "execution_count": null,
   "metadata": {},
   "outputs": [],
   "source": [
    "import json, boto3\n",
    "\n",
    "def get(endpoint_name, prompt):\n",
    "    client = boto3.client('sagemaker-runtime', region_name='us-east-1')\n",
    "    payload = json.dumps({\"inputs\": prompt})\n",
    "    response = client.invoke_endpoint(EndpointName=endpoint_name, ContentType=\"application/json\", Body=payload)\n",
    "    print(\"Response:\", json.loads(response['Body'].read().decode()))"
   ]
  }
 ],
 "metadata": {
  "kernelspec": {
   "display_name": ".venv",
   "language": "python",
   "name": "python3"
  },
  "language_info": {
   "codemirror_mode": {
    "name": "ipython",
    "version": 3
   },
   "file_extension": ".py",
   "mimetype": "text/x-python",
   "name": "python",
   "nbconvert_exporter": "python",
   "pygments_lexer": "ipython3",
   "version": "3.11.4"
  }
 },
 "nbformat": 4,
 "nbformat_minor": 2
}
