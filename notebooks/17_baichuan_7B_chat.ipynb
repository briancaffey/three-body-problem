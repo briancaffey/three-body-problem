{
 "cells": [
  {
   "cell_type": "code",
   "execution_count": 1,
   "metadata": {},
   "outputs": [],
   "source": [
    "import json\n",
    "\n",
    "import torch\n",
    "from transformers import AutoModelForCausalLM, AutoTokenizer\n",
    "from transformers.generation import GenerationConfig\n"
   ]
  },
  {
   "cell_type": "code",
   "execution_count": 2,
   "metadata": {},
   "outputs": [
    {
     "name": "stdout",
     "output_type": "stream",
     "text": [
      "set up tokenizer\n",
      "set up AutoModelForCausalLM\n",
      "GenerationConfig\n"
     ]
    }
   ],
   "source": [
    "print(\"set up tokenizer\")\n",
    "tokenizer = AutoTokenizer.from_pretrained(\"baichuan-inc/Baichuan2-7B-Chat\", use_fast=False, trust_remote_code=True)\n",
    "print(\"set up AutoModelForCausalLM\")\n",
    "model = AutoModelForCausalLM.from_pretrained(\"baichuan-inc/Baichuan2-7B-Chat\", device_map=\"auto\", torch_dtype=torch.bfloat16, trust_remote_code=True)\n",
    "print(\"GenerationConfig\")\n",
    "model.generation_config = GenerationConfig.from_pretrained(\"baichuan-inc/Baichuan2-7B-Chat\", max_new_tokens=1000, temperature=0.2)"
   ]
  },
  {
   "cell_type": "code",
   "execution_count": 7,
   "metadata": {},
   "outputs": [
    {
     "name": "stdout",
     "output_type": "stream",
     "text": [
      "你好，作为一个大语言模型，我可以通过自然语言交互的方式为你提供以下服务：\n",
      "1. 提供知识：我可以回答各领域的问题，并提供准确的信息和知识，帮你解决问题或获取所需要的信息\n",
      "2. 文本生成：我可以创作不同体裁的内容，激发你的灵感\n",
      "3. 语言翻译：如果需要将一种语言翻译成另外一种语言，我可以为你提供翻译服务\n",
      "4. 语言理解：我可以用于语言理解相关的任务，例如文本分析、情感分析、摘要抽取、分类、聚类等\n",
      "5. 代码编写和解释：我还可以生成相关问题的代码或者解释相关代码的问题\n",
      "请问你需要什么帮助吗？\n"
     ]
    }
   ],
   "source": [
    "messages = []\n",
    "messages.append({\"role\": \"user\", \"content\": \"自我介绍\"})\n",
    "response = model.chat(tokenizer, messages)\n",
    "print(response)"
   ]
  },
  {
   "cell_type": "code",
   "execution_count": 8,
   "metadata": {},
   "outputs": [
    {
     "name": "stdout",
     "output_type": "stream",
     "text": [
      "Hello, I am the AI assistant of the Xiaoice language model.I can understand and generate multiple languages, including Chinese, English, Japanese, German, French, Spanish, Italian, Russian, Korean, Portuguese, Swedish, Dutch, Turkish, Polish, Indonesian, Malay, Hindi, Arabic, German, Greek, Vietnamese, Thai, Malaysian, etc.I can answer questions, provide information, translate texts, write text, and other tasks.My capabilities include: 1. Question answering: Understand your questions and provide accurate answers.\n",
      "2. Information retrieval: Search for relevant information based on your requirements and provide it to you.\n",
      "3. Text translation: Translate text from one language to another.\n",
      "4. Text generation: Generate text according to your requirements, such as writing articles, stories, etc.\n",
      "5. Sentence completion: Complete the sentence according to your requirements.\n",
      "6. Dialog: Conduct dialog with humans.\n",
      "7. Emotion recognition: Recognize the emotions in text or speech.\n",
      "8. Semantic understanding: Understand the meaning of text or speech.\n",
      "9. Language understanding: Understand natural language.\n",
      "10. Multi-task learning: Learn multiple tasks simultaneously.\n"
     ]
    }
   ],
   "source": [
    "messages = []\n",
    "messages.append({\"role\": \"user\", \"content\": \"Please introduce yourself and your capabilities\"})\n",
    "response = model.chat(tokenizer, messages)\n",
    "print(response)"
   ]
  },
  {
   "cell_type": "code",
   "execution_count": null,
   "metadata": {},
   "outputs": [],
   "source": []
  }
 ],
 "metadata": {
  "kernelspec": {
   "display_name": ".venv",
   "language": "python",
   "name": "python3"
  },
  "language_info": {
   "codemirror_mode": {
    "name": "ipython",
    "version": 3
   },
   "file_extension": ".py",
   "mimetype": "text/x-python",
   "name": "python",
   "nbconvert_exporter": "python",
   "pygments_lexer": "ipython3",
   "version": "3.10.12"
  },
  "orig_nbformat": 4
 },
 "nbformat": 4,
 "nbformat_minor": 2
}
